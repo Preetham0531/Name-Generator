{
 "cells": [
  {
   "cell_type": "code",
   "execution_count": 114,
   "id": "e77ae2a4-d1e6-4b6c-8f74-9dc1eb43865b",
   "metadata": {},
   "outputs": [],
   "source": [
    "import torch\n",
    "import torch.nn.functional as F\n",
    "import matplotlib.pyplot as plt\n",
    "%matplotlib inline "
   ]
  },
  {
   "cell_type": "code",
   "execution_count": 115,
   "id": "0173a370-d687-4ca3-91b9-c00f96f7e5ad",
   "metadata": {},
   "outputs": [
    {
     "data": {
      "text/plain": [
       "['emma', 'olivia', 'ava']"
      ]
     },
     "execution_count": 115,
     "metadata": {},
     "output_type": "execute_result"
    }
   ],
   "source": [
    "words = open('names.txt','r').read().splitlines()\n",
    "words[:3]"
   ]
  },
  {
   "cell_type": "code",
   "execution_count": 116,
   "id": "385ceee5-a8c0-47f2-8cc9-95927688c402",
   "metadata": {},
   "outputs": [
    {
     "data": {
      "text/plain": [
       "32033"
      ]
     },
     "execution_count": 116,
     "metadata": {},
     "output_type": "execute_result"
    }
   ],
   "source": [
    "len(words)"
   ]
  },
  {
   "cell_type": "code",
   "execution_count": 117,
   "id": "d6671634-89b7-4ab5-b960-be78a6371d7f",
   "metadata": {},
   "outputs": [
    {
     "name": "stdout",
     "output_type": "stream",
     "text": [
      "{1: 'a', 2: 'b', 3: 'c', 4: 'd', 5: 'e', 6: 'f', 7: 'g', 8: 'h', 9: 'i', 10: 'j', 11: 'k', 12: 'l', 13: 'm', 14: 'n', 15: 'o', 16: 'p', 17: 'q', 18: 'r', 19: 's', 20: 't', 21: 'u', 22: 'v', 23: 'w', 24: 'x', 25: 'y', 26: 'z', 0: '.'}\n",
      "27\n"
     ]
    }
   ],
   "source": [
    "chars = sorted(list(set(''.join(words))))\n",
    "s_to_i = {s:i+1 for i, s in enumerate(chars)}\n",
    "s_to_i['.'] = 0 \n",
    "i_to_s = {i:s for s,i in s_to_i.items()}\n",
    "vocab_size = len(i_to_s)\n",
    "print(i_to_s)\n",
    "print(vocab_size)"
   ]
  },
  {
   "cell_type": "code",
   "execution_count": 118,
   "id": "59baf3bd-9640-4708-9070-b93cde9d841e",
   "metadata": {
    "scrolled": true
   },
   "outputs": [
    {
     "name": "stdout",
     "output_type": "stream",
     "text": [
      "torch.Size([182625, 3]) torch.Size([182625])\n",
      "torch.Size([22655, 3]) torch.Size([22655])\n",
      "torch.Size([22866, 3]) torch.Size([22866])\n"
     ]
    }
   ],
   "source": [
    "block_size = 3\n",
    "def build_dataset(words):\n",
    "    X,Y = [],[]\n",
    "    for w in words:\n",
    "        context = [0]*block_size\n",
    "        for ch in w + '.':\n",
    "            ix = s_to_i[ch]\n",
    "            X.append(context)\n",
    "            Y.append(ix) \n",
    "            context = context[1:] + [ix]\n",
    "            \n",
    "    X = torch.tensor(X)\n",
    "    Y = torch.tensor(Y)\n",
    "    # print(X)\n",
    "    # print(Y)\n",
    "    print(X.shape, Y.shape)\n",
    "    return X,Y\n",
    "\n",
    "import random \n",
    "random.seed(42)\n",
    "random.shuffle(words)\n",
    "\n",
    "n1 = int(0.8 * len(words))\n",
    "n2 = int(0.9 * len(words))\n",
    "\n",
    "X_train, Y_train = build_dataset(words[:n1])\n",
    "X_val, Y_val = build_dataset(words[n1:n2])\n",
    "X_test, Y_test = build_dataset(words[n2:])\n"
   ]
  },
  {
   "cell_type": "code",
   "execution_count": 119,
   "id": "df66b010-9c49-46bc-a187-a8cb56541d99",
   "metadata": {},
   "outputs": [],
   "source": [
    "n_embedding = 10\n",
    "n_hidden = 200\n",
    "\n",
    "g = torch.Generator().manual_seed(12123123123)\n",
    "C = torch.randn((vocab_size, n_embedding), generator = g)\n",
    "W1 = torch.rand((n_embedding * block_size, n_hidden), generator = g)\n",
    "b1 = torch.rand(n_hidden, generator = g)\n",
    "W2 = torch.rand((n_hidden, vocab_size), generator = g)\n",
    "b2 = torch.rand(vocab_size, generator = g)"
   ]
  },
  {
   "cell_type": "code",
   "execution_count": 120,
   "id": "e8c2536b-ca2f-42f5-b9f2-3e10ef3691e0",
   "metadata": {},
   "outputs": [
    {
     "data": {
      "text/plain": [
       "torch.Size([27, 10])"
      ]
     },
     "execution_count": 120,
     "metadata": {},
     "output_type": "execute_result"
    }
   ],
   "source": [
    "C.shape"
   ]
  },
  {
   "cell_type": "code",
   "execution_count": 121,
   "id": "45cd5bd6-7143-4549-8840-2b794d31ad9b",
   "metadata": {},
   "outputs": [
    {
     "data": {
      "text/plain": [
       "torch.Size([30, 200])"
      ]
     },
     "execution_count": 121,
     "metadata": {},
     "output_type": "execute_result"
    }
   ],
   "source": [
    "W1.shape"
   ]
  },
  {
   "cell_type": "code",
   "execution_count": 122,
   "id": "984ffb0e-32cd-4a17-9a27-c6144e27a15c",
   "metadata": {},
   "outputs": [
    {
     "data": {
      "text/plain": [
       "torch.Size([200])"
      ]
     },
     "execution_count": 122,
     "metadata": {},
     "output_type": "execute_result"
    }
   ],
   "source": [
    "b1.shape"
   ]
  },
  {
   "cell_type": "code",
   "execution_count": 123,
   "id": "1e3c3c6c-8dfd-4be3-a4fc-652e92e92e2f",
   "metadata": {},
   "outputs": [
    {
     "data": {
      "text/plain": [
       "torch.Size([200, 27])"
      ]
     },
     "execution_count": 123,
     "metadata": {},
     "output_type": "execute_result"
    }
   ],
   "source": [
    "W2.shape"
   ]
  },
  {
   "cell_type": "code",
   "execution_count": 124,
   "id": "193a98ae-dc33-4021-bad1-7b52b63438aa",
   "metadata": {},
   "outputs": [
    {
     "data": {
      "text/plain": [
       "torch.Size([27])"
      ]
     },
     "execution_count": 124,
     "metadata": {},
     "output_type": "execute_result"
    }
   ],
   "source": [
    "b2.shape"
   ]
  },
  {
   "cell_type": "code",
   "execution_count": 125,
   "id": "4bf83467-72e1-4a8e-9894-78bc7952a3ed",
   "metadata": {},
   "outputs": [
    {
     "name": "stdout",
     "output_type": "stream",
     "text": [
      "11897\n"
     ]
    }
   ],
   "source": [
    "parameters = [C, W1, b1, W2, b2]\n",
    "print(sum(p.nelement() for p in parameters))\n",
    "for p in parameters:\n",
    "    p.requires_grad = True"
   ]
  },
  {
   "cell_type": "code",
   "execution_count": 126,
   "id": "e6b8fb5e-caef-400f-be64-aaa94926ccfc",
   "metadata": {},
   "outputs": [
    {
     "name": "stdout",
     "output_type": "stream",
     "text": [
      "      0/1000000 : 7.5113\n",
      " 100000/1000000 : 1.9570\n",
      " 200000/1000000 : 2.2263\n",
      " 300000/1000000 : 1.4602\n",
      " 400000/1000000 : 1.9159\n",
      " 500000/1000000 : 1.7142\n",
      " 600000/1000000 : 2.2546\n",
      " 700000/1000000 : 1.9592\n",
      " 800000/1000000 : 1.8666\n",
      " 900000/1000000 : 2.1305\n"
     ]
    }
   ],
   "source": [
    "max_steps = 1000000\n",
    "batch_size = 32\n",
    "lossi = []\n",
    "\n",
    "for i in range(max_steps):\n",
    "    ix = torch.randint(0, X_train.shape[0], (batch_size,), generator = g)\n",
    "    Xb, Yb = X_train[ix], Y_train[ix]\n",
    "\n",
    "    embedding = C[Xb]\n",
    "    embedding_concatenate = embedding.view(embedding.shape[0], -1)\n",
    "    layer1 = embedding_concatenate @ W1 + b1\n",
    "    output1 = torch.tanh(layer1)\n",
    "    layer2 = output1 @ W2 + b2\n",
    "    loss = F.cross_entropy(layer2, Yb)\n",
    "\n",
    "    for p in parameters:\n",
    "        p.grad = None\n",
    "    loss.backward()\n",
    "\n",
    "    lr = 0.1 if i<100000 else 0.01\n",
    "    for p in parameters:\n",
    "        p.data += -lr * p.grad\n",
    "\n",
    "\n",
    "    if i%100000 == 0: \n",
    "        print(f'{i:7d}/{max_steps:7d} : {loss.item():.4f}')\n",
    "    lossi.append(loss.log10().item())"
   ]
  },
  {
   "cell_type": "code",
   "execution_count": 127,
   "id": "95ef0ae8-fe5b-4b3c-8c5b-2476348ca09c",
   "metadata": {},
   "outputs": [
    {
     "data": {
      "text/plain": [
       "[<matplotlib.lines.Line2D at 0x147523350>]"
      ]
     },
     "execution_count": 127,
     "metadata": {},
     "output_type": "execute_result"
    },
    {
     "data": {
      "image/png": "[encoded data removed]",
      "text/plain": [
       "<Figure size 640x480 with 1 Axes>"
      ]
     },
     "metadata": {},
     "output_type": "display_data"
    }
   ],
   "source": [
    "plt.plot(lossi)"
   ]
  },
  {
   "cell_type": "code",
   "execution_count": 128,
   "id": "2a193027-2528-4e61-88cf-e5f76c639065",
   "metadata": {},
   "outputs": [
    {
     "name": "stdout",
     "output_type": "stream",
     "text": [
      "train 2.0283453464508057\n",
      "val 2.110610008239746\n",
      "test 2.1117875576019287\n"
     ]
    }
   ],
   "source": [
    "@torch.no_grad()\n",
    "def split_loss(split):\n",
    "    x,y = {\n",
    "        'train': (X_train, Y_train),\n",
    "        'val': (X_val, Y_val),\n",
    "        'test': (X_test, Y_test),\n",
    "    }[split]\n",
    "    emb = C[x]\n",
    "    emb_cat = emb.view(emb.shape[0],-1)\n",
    "    h = torch.tanh(emb_cat @ W1 + b1)\n",
    "    logits = h @ W2 + b2\n",
    "    loss = F.cross_entropy(logits, y)\n",
    "    print(split, loss.item())\n",
    "\n",
    "split_loss('train')\n",
    "split_loss('val')\n",
    "split_loss('test')"
   ]
  },
  {
   "cell_type": "code",
   "execution_count": 129,
   "id": "26d36866-3913-4029-babe-13667b428f49",
   "metadata": {},
   "outputs": [
    {
     "name": "stdout",
     "output_type": "stream",
     "text": [
      "fadian.\n",
      "aadry.\n",
      "carlon.\n",
      "matily.\n",
      "mairrashloraidece.\n",
      "kai.\n",
      "jael.\n",
      "tymin.\n",
      "nia.\n",
      "kameen.\n",
      "val.\n",
      "elleif.\n",
      "anishaashryn.\n",
      "raya.\n",
      "marionna.\n",
      "kham.\n",
      "rolber.\n",
      "livianaalen.\n",
      "alie.\n",
      "thersalluwalynn.\n"
     ]
    }
   ],
   "source": [
    "g = torch.Generator().manual_seed(12123123123)\n",
    "\n",
    "for _ in range(20):\n",
    "    out = []\n",
    "    context = [0] * block_size\n",
    "    while True:\n",
    "        emb = C[torch.tensor([context])]\n",
    "        h = torch.tanh(emb.view(1, -1) @ W1 + b1)\n",
    "        logits = h @ W2 +b2\n",
    "        probs = F.softmax(logits, dim=1)\n",
    "        ix = torch.multinomial(probs, num_samples=1, generator = g).item()\n",
    "        context = context[1:]+[ix]\n",
    "        out.append(ix)\n",
    "        if ix == 0:\n",
    "            break\n",
    "    print(''.join(i_to_s[i] for i in out))"
   ]
  },
  {
   "cell_type": "code",
   "execution_count": 130,
   "id": "719609bb-c99d-4359-aac4-1402def6429b",
   "metadata": {},
   "outputs": [],
   "source": [
    "# If we initalise the weights and bias with a minimum value but not zero and not same, then we can decrease the loss at the initialization  "
   ]
  },
  {
   "cell_type": "code",
   "execution_count": 131,
   "id": "2505e2aa-e358-40ee-b01c-a8f653b8fbc1",
   "metadata": {},
   "outputs": [],
   "source": [
    "# Steps to reduce loss \n",
    "# 1. Initial Loss\n",
    "# 2. Apply softmax activation \n",
    "# 3. Apply tanh activation function to the initialisation layer\n",
    "# 4. Use semi principled kaiming init instead of hacky init\n",
    "#     Kaiming initialization method is calculated as a random number with a Gaussian probability \n",
    "#     distribution (G) with a mean of 0.0 and a standard deviation of sqrt(2/n), where n is the \n",
    "#     number of inputs to the node.\n",
    "# 5. Add a batch normalisation layer\n",
    "# So the pattern go like this Convolution -> Batch Norm -> ReLU"
   ]
  },
  {
   "cell_type": "code",
   "execution_count": 146,
   "id": "2adbae56-9b65-4513-bc59-dbc904635e6d",
   "metadata": {},
   "outputs": [
    {
     "name": "stdout",
     "output_type": "stream",
     "text": [
      "12097\n"
     ]
    }
   ],
   "source": [
    "n_embd = 10 # the dimensionality of the character embedding vectors\n",
    "n_hidden = 200 # the number of neurons in the hidden layer of the MLP\n",
    "\n",
    "g = torch.Generator().manual_seed(12123123123) # for reproducibility\n",
    "C  = torch.randn((vocab_size, n_embd), generator=g)\n",
    "W1 = torch.randn((n_embd * block_size, n_hidden), generator=g) * (5/3)/((n_embd * block_size)**0.5) #* 0.2\n",
    "#b1 = torch.randn(n_hidden, generator=g) * 0.01\n",
    "W2 = torch.randn((n_hidden, vocab_size), generator=g) * 0.01\n",
    "b2 = torch.randn(vocab_size, generator=g) * 0\n",
    "\n",
    "# BatchNorm parameters\n",
    "batchnorm_gain = torch.ones((1, n_hidden))\n",
    "batchnorm_bias = torch.zeros((1, n_hidden))\n",
    "batchnorm_mean_running = torch.zeros((1, n_hidden))\n",
    "batchnorm_std_running = torch.ones((1, n_hidden))\n",
    "\n",
    "parameters = [C, W1, W2, b2, batchnorm_gain, batchnorm_bias]\n",
    "print(sum(p.nelement() for p in parameters)) # number of parameters in total\n",
    "for p in parameters:\n",
    "  p.requires_grad = True"
   ]
  },
  {
   "cell_type": "code",
   "execution_count": 147,
   "id": "a479fe33-4e6f-4089-bb51-208c17d40e54",
   "metadata": {},
   "outputs": [
    {
     "name": "stdout",
     "output_type": "stream",
     "text": [
      "      0/ 200000: 3.3025\n",
      "  10000/ 200000: 2.3742\n",
      "  20000/ 200000: 2.2123\n",
      "  30000/ 200000: 2.0593\n",
      "  40000/ 200000: 2.5664\n",
      "  50000/ 200000: 2.1218\n",
      "  60000/ 200000: 2.2079\n",
      "  70000/ 200000: 2.2041\n",
      "  80000/ 200000: 2.6559\n",
      "  90000/ 200000: 2.1658\n",
      " 100000/ 200000: 2.0586\n",
      " 110000/ 200000: 2.1087\n",
      " 120000/ 200000: 1.9835\n",
      " 130000/ 200000: 2.3007\n",
      " 140000/ 200000: 2.2375\n",
      " 150000/ 200000: 1.8801\n",
      " 160000/ 200000: 2.5452\n",
      " 170000/ 200000: 2.0259\n",
      " 180000/ 200000: 2.0578\n",
      " 190000/ 200000: 2.3532\n"
     ]
    }
   ],
   "source": [
    "# same optimization as last time\n",
    "max_steps = 200000\n",
    "batch_size = 32\n",
    "lossi = []\n",
    "\n",
    "for i in range(max_steps):\n",
    "  \n",
    "  # minibatch construct\n",
    "  ix = torch.randint(0, X_train.shape[0], (batch_size,), generator=g)\n",
    "  Xb, Yb = X_train[ix], Y_train[ix] # batch X,Y\n",
    "  \n",
    "  # forward pass\n",
    "  emb = C[Xb] # embed the characters into vectors\n",
    "  emb_cat = emb.view(emb.shape[0], -1) \n",
    "  # Linear layer\n",
    "  layer1 = emb_cat @ W1 \n",
    "  # BatchNorm layer\n",
    "  # -------------------------------------------------------------\n",
    "  batchnorm_meani = layer1.mean(0, keepdim=True)\n",
    "  batchnorm_stdi = layer1.std(0, keepdim=True)\n",
    "  layer1 = batchnorm_gain * (layer1 - batchnorm_meani) / batchnorm_stdi + batchnorm_bias\n",
    "  with torch.no_grad():\n",
    "    batchnorm_mean_running = 0.999 * batchnorm_mean_running + 0.001 * batchnorm_meani\n",
    "    batchnorm_std_running = 0.999 * batchnorm_std_running + 0.001 * batchnorm_stdi\n",
    "  # -------------------------------------------------------------\n",
    "  # Non-linearity\n",
    "  h = torch.tanh(layer1) # hidden layer\n",
    "  layer2 = h @ W2 + b2 # output layer\n",
    "  loss = F.cross_entropy(layer2, Yb) # loss function\n",
    "  \n",
    "  # backward pass\n",
    "  for p in parameters:\n",
    "    p.grad = None\n",
    "  loss.backward()\n",
    "  \n",
    "  # update\n",
    "  lr = 0.1 if i < 100000 else 0.01 # step learning rate decay\n",
    "  for p in parameters:\n",
    "    p.data += -lr * p.grad\n",
    "\n",
    "  # track stats\n",
    "  if i % 10000 == 0: # print every once in a while\n",
    "    print(f'{i:7d}/{max_steps:7d}: {loss.item():.4f}')\n",
    "  lossi.append(loss.log10().item())"
   ]
  },
  {
   "cell_type": "code",
   "execution_count": 148,
   "id": "4da52472-c58f-4c65-9811-3fea1a663eeb",
   "metadata": {},
   "outputs": [
    {
     "data": {
      "text/plain": [
       "[<matplotlib.lines.Line2D at 0x1474e6510>]"
      ]
     },
     "execution_count": 148,
     "metadata": {},
     "output_type": "execute_result"
    },
    {
     "data": {
      "image/png": "[encoded data removed]",
      "text/plain": [
       "<Figure size 640x480 with 1 Axes>"
      ]
     },
     "metadata": {},
     "output_type": "display_data"
    }
   ],
   "source": [
    "plt.plot(lossi)"
   ]
  },
  {
   "cell_type": "code",
   "execution_count": 149,
   "id": "77fe1aed-6455-43e3-b9d0-ec8c543676b8",
   "metadata": {},
   "outputs": [
    {
     "name": "stdout",
     "output_type": "stream",
     "text": [
      "train 2.7368736267089844\n",
      "val 2.7772510051727295\n",
      "test 2.76987361907959\n"
     ]
    }
   ],
   "source": [
    "@torch.no_grad()\n",
    "def split_loss(split):\n",
    "    x,y = {\n",
    "        'train': (X_train, Y_train),\n",
    "        'val': (X_val, Y_val),\n",
    "        'test': (X_test, Y_test),\n",
    "    }[split]\n",
    "    emb = C[x]\n",
    "    emb_cat = emb.view(emb.shape[0],-1)\n",
    "    h = torch.tanh(emb_cat @ W1 + b1)\n",
    "    layer2 = h @ W2 + b2\n",
    "    loss = F.cross_entropy(layer2, y)\n",
    "    print(split, loss.item())\n",
    "\n",
    "split_loss('train')\n",
    "split_loss('val')\n",
    "split_loss('test')"
   ]
  },
  {
   "cell_type": "code",
   "execution_count": 150,
   "id": "ef11364a-52d2-44be-b4f0-5fc4bfd7d9a9",
   "metadata": {},
   "outputs": [
    {
     "name": "stdout",
     "output_type": "stream",
     "text": [
      "fredadtonnadil.\n",
      "avavimasim.\n",
      "amuamrasquonaidah.\n",
      "dabellaedad.\n",
      "mandnixchmilendvalle.\n",
      "kaifeahmiraashryahran.\n",
      "amardis.\n",
      "fransm.\n",
      "rof.\n",
      "zhregvontzavirelys.\n",
      "athavsallukaryahumarance.\n",
      "amust.\n",
      "kamingtoneespncen.\n",
      "khz.\n",
      "vilandcazdismyah.\n",
      "jamuhumustna.\n",
      "auden.\n",
      "eskelahilhikdshna.\n",
      "aaz.\n",
      "daf.\n"
     ]
    }
   ],
   "source": [
    "g = torch.Generator().manual_seed(12123123123)\n",
    "\n",
    "for _ in range(20):\n",
    "    out = []\n",
    "    context = [0] * block_size\n",
    "    while True:\n",
    "        emb = C[torch.tensor([context])]\n",
    "        h = torch.tanh(emb.view(1, -1) @ W1 + b1)\n",
    "        logits = h @ W2 +b2\n",
    "        probs = F.softmax(logits, dim=1)\n",
    "        ix = torch.multinomial(probs, num_samples=1, generator = g).item()\n",
    "        context = context[1:]+[ix]\n",
    "        out.append(ix)\n",
    "        if ix == 0:\n",
    "            break\n",
    "    print(''.join(i_to_s[i] for i in out))"
   ]
  },
  {
   "cell_type": "code",
   "execution_count": null,
   "id": "17656ce6-1fac-40ac-b270-9136dc29e775",
   "metadata": {},
   "outputs": [],
   "source": []
  }
 ],
 "metadata": {
  "kernelspec": {
   "display_name": "Python 3 (ipykernel)",
   "language": "python",
   "name": "python3"
  },
  "language_info": {
   "codemirror_mode": {
    "name": "ipython",
    "version": 3
   },
   "file_extension": ".py",
   "mimetype": "text/x-python",
   "name": "python",
   "nbconvert_exporter": "python",
   "pygments_lexer": "ipython3",
   "version": "3.11.7"
  }
 },
 "nbformat": 4,
 "nbformat_minor": 5
}
